{
 "cells": [
  {
   "cell_type": "code",
   "execution_count": 8,
   "id": "00ce062a",
   "metadata": {},
   "outputs": [
    {
     "data": {
      "text/plain": [
       "'odd'"
      ]
     },
     "execution_count": 8,
     "metadata": {},
     "output_type": "execute_result"
    }
   ],
   "source": [
    "def is_even(num):\n",
    "    if num%2==0:\n",
    "        return'even'\n",
    "    else:\n",
    "        return'odd'\n",
    "    \n",
    "is_even(5)    \n",
    "    "
   ]
  },
  {
   "cell_type": "code",
   "execution_count": 15,
   "id": "3c71cb82",
   "metadata": {},
   "outputs": [],
   "source": [
    "def power(a=1,b=1):\n",
    "    return a**b"
   ]
  },
  {
   "cell_type": "code",
   "execution_count": 17,
   "id": "7909641f",
   "metadata": {},
   "outputs": [
    {
     "data": {
      "text/plain": [
       "36"
      ]
     },
     "execution_count": 17,
     "metadata": {},
     "output_type": "execute_result"
    }
   ],
   "source": [
    "power(b=2,a=6)"
   ]
  },
  {
   "cell_type": "code",
   "execution_count": 22,
   "id": "a2018e69",
   "metadata": {},
   "outputs": [],
   "source": [
    "# *args and **kargs \n",
    "def display(**w):\n",
    "    for (key,value) in w.items():\n",
    "        print(key,'-',value)\n",
    "    "
   ]
  },
  {
   "cell_type": "code",
   "execution_count": 26,
   "id": "878d519a",
   "metadata": {},
   "outputs": [
    {
     "name": "stdout",
     "output_type": "stream",
     "text": [
      "india - dehli\n",
      "srilanka - colmbo\n",
      "france - paris\n"
     ]
    }
   ],
   "source": [
    "display(india='dehli', srilanka='colmbo',france='paris')"
   ]
  },
  {
   "cell_type": "code",
   "execution_count": 2,
   "id": "a34d1dca",
   "metadata": {},
   "outputs": [
    {
     "data": {
      "text/plain": [
       "2481587014368"
      ]
     },
     "execution_count": 2,
     "metadata": {},
     "output_type": "execute_result"
    }
   ],
   "source": [
    "def square(num):\n",
    "    return num**2\n",
    "type(square)\n",
    "a=2\n",
    "id(square)\n"
   ]
  },
  {
   "cell_type": "code",
   "execution_count": 3,
   "id": "3ea7df62",
   "metadata": {},
   "outputs": [
    {
     "data": {
      "text/plain": [
       "4"
      ]
     },
     "execution_count": 3,
     "metadata": {},
     "output_type": "execute_result"
    }
   ],
   "source": [
    "x=square\n",
    "x(2)"
   ]
  },
  {
   "cell_type": "code",
   "execution_count": 4,
   "id": "9b3bd7cd",
   "metadata": {},
   "outputs": [
    {
     "name": "stdout",
     "output_type": "stream",
     "text": [
      "[1, 2, 3, 9]\n"
     ]
    }
   ],
   "source": [
    "l=[1,2,3,square(3)]\n",
    "print(l)"
   ]
  },
  {
   "cell_type": "code",
   "execution_count": 6,
   "id": "0782a00f",
   "metadata": {},
   "outputs": [
    {
     "data": {
      "text/plain": [
       "16"
      ]
     },
     "execution_count": 6,
     "metadata": {},
     "output_type": "execute_result"
    }
   ],
   "source": [
    "a=lambda x:x**2\n",
    "a(4)"
   ]
  },
  {
   "cell_type": "code",
   "execution_count": null,
   "id": "e813dfb6",
   "metadata": {},
   "outputs": [],
   "source": [
    "let "
   ]
  }
 ],
 "metadata": {
  "kernelspec": {
   "display_name": "Python 3 (ipykernel)",
   "language": "python",
   "name": "python3"
  },
  "language_info": {
   "codemirror_mode": {
    "name": "ipython",
    "version": 3
   },
   "file_extension": ".py",
   "mimetype": "text/x-python",
   "name": "python",
   "nbconvert_exporter": "python",
   "pygments_lexer": "ipython3",
   "version": "3.11.5"
  }
 },
 "nbformat": 4,
 "nbformat_minor": 5
}
