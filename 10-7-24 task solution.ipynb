{
 "cells": [
  {
   "cell_type": "code",
   "execution_count": null,
   "id": "ce554620",
   "metadata": {},
   "outputs": [],
   "source": [
    "# write a program to enter name and percentage marks in a dictionary and display information on the screen\n",
    "# write a program to find number of occurences of each letter present in the given string\n",
    "# write a program to find number of occurences of each vowel present int he given string\n"
   ]
  },
  {
   "cell_type": "code",
   "execution_count": 24,
   "id": "236b544d",
   "metadata": {},
   "outputs": [
    {
     "name": "stdout",
     "output_type": "stream",
     "text": [
      "enter the nameds\n",
      "enter the marks78.90\n",
      "student info {'ds': 78.9}\n"
     ]
    }
   ],
   "source": [
    "d = {}\n",
    "name = str(input('enter the name'))\n",
    "percentage =float(input('enter the marks'))\n",
    "d[name]=percentage\n",
    "for name,percentage in d.items():\n",
    "    print('student info',d)\n",
    "\n"
   ]
  },
  {
   "cell_type": "code",
   "execution_count": 48,
   "id": "5547e4de",
   "metadata": {},
   "outputs": [
    {
     "name": "stdout",
     "output_type": "stream",
     "text": [
      "1 p\n",
      "2 y\n",
      "1 t\n",
      "1 h\n",
      "1 o\n",
      "1 n\n",
      "2  \n",
      "1 i\n",
      "2 s\n",
      "2  \n",
      "1 e\n",
      "1 a\n",
      "2 s\n",
      "2 y\n"
     ]
    }
   ],
   "source": [
    "s = 'python is easy'\n",
    "for i in s:\n",
    "    print(str(s.count(i)),i)\n",
    "\n",
    "   \n",
    "    \n",
    "\n",
    "   "
   ]
  },
  {
   "cell_type": "code",
   "execution_count": 32,
   "id": "65f1d037",
   "metadata": {},
   "outputs": [
    {
     "name": "stdout",
     "output_type": "stream",
     "text": [
      "4\n"
     ]
    }
   ],
   "source": [
    "s='Python Is Easy'\n",
    "vowels=set('aeiouAEIOU')\n",
    "output=set(s)\n",
    "print(len(vowels & output))"
   ]
  },
  {
   "cell_type": "code",
   "execution_count": null,
   "id": "859ab9a8",
   "metadata": {},
   "outputs": [],
   "source": []
  }
 ],
 "metadata": {
  "kernelspec": {
   "display_name": "Python 3 (ipykernel)",
   "language": "python",
   "name": "python3"
  },
  "language_info": {
   "codemirror_mode": {
    "name": "ipython",
    "version": 3
   },
   "file_extension": ".py",
   "mimetype": "text/x-python",
   "name": "python",
   "nbconvert_exporter": "python",
   "pygments_lexer": "ipython3",
   "version": "3.11.5"
  }
 },
 "nbformat": 4,
 "nbformat_minor": 5
}
