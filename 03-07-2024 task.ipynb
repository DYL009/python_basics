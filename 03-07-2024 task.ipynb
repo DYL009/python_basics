{
 "cells": [
  {
   "cell_type": "code",
   "execution_count": null,
   "id": "faba4f71",
   "metadata": {},
   "outputs": [],
   "source": [
    "# by using for loop print a list\n",
    "# write a program to find only even numbers from the list"
   ]
  },
  {
   "cell_type": "code",
   "execution_count": 2,
   "id": "517834a7",
   "metadata": {},
   "outputs": [
    {
     "name": "stdout",
     "output_type": "stream",
     "text": [
      "2\n",
      "3\n",
      "4\n",
      "5\n",
      "6\n",
      "7\n",
      "8\n",
      "9\n"
     ]
    }
   ],
   "source": [
    "# by using for loop print a list\n",
    "list1= [2,3,4,5,6,7,8,9]\n",
    "for i in list1:\n",
    "    print(i)"
   ]
  },
  {
   "cell_type": "code",
   "execution_count": 6,
   "id": "1ce85224",
   "metadata": {},
   "outputs": [
    {
     "name": "stdout",
     "output_type": "stream",
     "text": [
      "2 Even number\n",
      "4 Even number\n",
      "6 Even number\n",
      "8 Even number\n"
     ]
    }
   ],
   "source": [
    "# write a program to find only even numbers from the list\n",
    "list2=[1,2,3,4,5,6,7,8]\n",
    "for i in list2:\n",
    "    if i%2==0:\n",
    "        print(i,'Even number')\n",
    "   "
   ]
  },
  {
   "cell_type": "code",
   "execution_count": null,
   "id": "16070287",
   "metadata": {},
   "outputs": [],
   "source": []
  }
 ],
 "metadata": {
  "kernelspec": {
   "display_name": "Python 3 (ipykernel)",
   "language": "python",
   "name": "python3"
  },
  "language_info": {
   "codemirror_mode": {
    "name": "ipython",
    "version": 3
   },
   "file_extension": ".py",
   "mimetype": "text/x-python",
   "name": "python",
   "nbconvert_exporter": "python",
   "pygments_lexer": "ipython3",
   "version": "3.11.5"
  }
 },
 "nbformat": 4,
 "nbformat_minor": 5
}
