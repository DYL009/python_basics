{
 "cells": [
  {
   "cell_type": "code",
   "execution_count": 1,
   "id": "41a47230",
   "metadata": {},
   "outputs": [],
   "source": [
    "# oops\n",
    "class Atm:\n",
    "    def __init__ (self):\n",
    "        self.pin=''\n",
    "        self.balance=0\n",
    "        self.menu()\n",
    "    def menu(self):\n",
    "        user_input= input(''' \n",
    "        hi hw can help you\n",
    "        1. 1 for create pin\n",
    "        2. 2 for change pin\n",
    "        3. 3 for check balence\n",
    "        4. 4 for withdraw\n",
    "        5. anything else\n",
    "        ''')\n",
    "        \n",
    "        if user_input == '1':\n",
    "            self.create_pin()\n",
    "        elif user_input == '2':\n",
    "            self.change_pin()\n",
    "        elif user_input == '3':\n",
    "            self.check_balance()\n",
    "        elif user_input == '4':\n",
    "            self.withdraw()\n",
    "        else:\n",
    "            exit()\n",
    "    \n",
    "    def create_pin(self):\n",
    "        user_pin=input('enter the pin')\n",
    "        self.pin=user_pin\n",
    "        user_balance = int(input('enter balance'))\n",
    "        self.balance = user_balance\n",
    "        print('pin created sucessfully')\n",
    "        self.menu()\n",
    "        \n",
    "    def change_pin(self):\n",
    "        old_pin=input('enter the pin')\n",
    "        if old_pin==self.pin:\n",
    "            new_pin=input('enter the new  pin')\n",
    "            print('pin change sucessfully')\n",
    "            self.menu()\n",
    "        else:\n",
    "            print('nhi sskta change pin')\n",
    "\n",
    "    def check_balance(self):\n",
    "        user_pin = input('enter your pin')\n",
    "        if user_pin == self.pin:\n",
    "            print('your balance is ',self.balance)\n",
    "            self.menu()\n",
    "  \n",
    "        else:\n",
    "            print('chal nikal yahan se')\n",
    "            self.menu()\n",
    "           \n",
    "    \n",
    "    def withdraw(self):\n",
    "        user_pin = input('enter the pin')\n",
    "        if user_pin == self.pin:\n",
    "      # allow\n",
    "\n",
    "            amount = int(input('enter the amount'))\n",
    "            if amount <= self.balance:\n",
    "                self.balance = self.balance - amount\n",
    "                print('withdrawl successful.balance is',self.balance)\n",
    "            else:\n",
    "                print('abe garib')\n",
    "        else:\n",
    "            print('sale chor')\n",
    "        self.menu()        "
   ]
  },
  {
   "cell_type": "code",
   "execution_count": 2,
   "id": "d7614627",
   "metadata": {},
   "outputs": [
    {
     "name": "stdout",
     "output_type": "stream",
     "text": [
      " \n",
      "        hi hw can help you\n",
      "        1. 1 for create pin\n",
      "        2. 2 for change pin\n",
      "        3. 3 for check balence\n",
      "        4. 4 for withdraw\n",
      "        5. anything else\n",
      "        1\n",
      "enter the pin21\n",
      "enter balance2300\n",
      "pin created sucessfully\n",
      " \n",
      "        hi hw can help you\n",
      "        1. 1 for create pin\n",
      "        2. 2 for change pin\n",
      "        3. 3 for check balence\n",
      "        4. 4 for withdraw\n",
      "        5. anything else\n",
      "        4\n",
      "enter the pin21\n",
      "enter the amount100\n",
      "withdrawl successful.balance is 2200\n",
      " \n",
      "        hi hw can help you\n",
      "        1. 1 for create pin\n",
      "        2. 2 for change pin\n",
      "        3. 3 for check balence\n",
      "        4. 4 for withdraw\n",
      "        5. anything else\n",
      "        5\n"
     ]
    }
   ],
   "source": [
    "obj=Atm()"
   ]
  },
  {
   "cell_type": "code",
   "execution_count": 28,
   "id": "ae0bfd11",
   "metadata": {},
   "outputs": [],
   "source": [
    "# build own data type\n",
    "class fraction:\n",
    "    def __init__(self,x,y):\n",
    "        self.num=x\n",
    "        self.den=y\n",
    "    def __str__(self):\n",
    "        return '{}/{}'.format(self.num,self.den)\n",
    "    \n",
    "    def __add__(self,other):\n",
    "        new_num=self.num*other.den +other.num*self.den\n",
    "        new_den=self.den*other.den\n",
    "        return'{}/{}'.format(new_num,new_den)\n",
    " \n",
    "    def __sub__(self,other):\n",
    "        new_num=self.num*other.den -other.num*self.den\n",
    "        new_den=self.den*other.den\n",
    "        return'{}/{}'.format(new_num,new_den)\n",
    "    def __mul__(self,other):\n",
    "        new_num=self.num*other.num\n",
    "        new_den=self.den*other.den\n",
    "        return'{}/{}'.format(new_num,new_den)\n",
    "    def __truediv__(self,other):\n",
    "        new_num=self.num*other.den\n",
    "        new_den=self.den*other.num\n",
    "        return'{}/{}'.format(new_num,new_den)\n",
    "        "
   ]
  },
  {
   "cell_type": "code",
   "execution_count": 29,
   "id": "883bc01a",
   "metadata": {},
   "outputs": [],
   "source": [
    "fr1=fraction(1,2)\n",
    "fr2=fraction(8,4)"
   ]
  },
  {
   "cell_type": "code",
   "execution_count": 30,
   "id": "3bc7db7f",
   "metadata": {},
   "outputs": [
    {
     "name": "stdout",
     "output_type": "stream",
     "text": [
      "1/2\n",
      "8/4\n"
     ]
    }
   ],
   "source": [
    "print(fr1)\n",
    "print(fr2)"
   ]
  },
  {
   "cell_type": "code",
   "execution_count": 31,
   "id": "c40cc8ce",
   "metadata": {},
   "outputs": [
    {
     "name": "stdout",
     "output_type": "stream",
     "text": [
      "20/8\n",
      "-12/8\n",
      "8/8\n",
      "4/16\n"
     ]
    }
   ],
   "source": [
    "print(fr1+fr2)\n",
    "print(fr1-fr2)\n",
    "print(fr1*fr2)\n",
    "print(fr1/fr2)"
   ]
  },
  {
   "cell_type": "code",
   "execution_count": null,
   "id": "066065ee",
   "metadata": {},
   "outputs": [],
   "source": []
  }
 ],
 "metadata": {
  "kernelspec": {
   "display_name": "Python 3 (ipykernel)",
   "language": "python",
   "name": "python3"
  },
  "language_info": {
   "codemirror_mode": {
    "name": "ipython",
    "version": 3
   },
   "file_extension": ".py",
   "mimetype": "text/x-python",
   "name": "python",
   "nbconvert_exporter": "python",
   "pygments_lexer": "ipython3",
   "version": "3.11.5"
  }
 },
 "nbformat": 4,
 "nbformat_minor": 5
}
