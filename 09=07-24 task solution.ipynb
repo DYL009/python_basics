{
 "cells": [
  {
   "cell_type": "code",
   "execution_count": 9,
   "id": "172d32cf",
   "metadata": {},
   "outputs": [
    {
     "name": "stdout",
     "output_type": "stream",
     "text": [
      "{'E', 'a', 'I', 'o'}\n"
     ]
    }
   ],
   "source": [
    "# Write a program to print different vowel present in the given word using set()\n",
    "words='Python Is So Easy'\n",
    "vowels=set('aeiouAEIOU')\n",
    "s=set(words)\n",
    "print(s&vowels)"
   ]
  },
  {
   "cell_type": "code",
   "execution_count": null,
   "id": "acfdba3c",
   "metadata": {},
   "outputs": [],
   "source": []
  }
 ],
 "metadata": {
  "kernelspec": {
   "display_name": "Python 3 (ipykernel)",
   "language": "python",
   "name": "python3"
  },
  "language_info": {
   "codemirror_mode": {
    "name": "ipython",
    "version": 3
   },
   "file_extension": ".py",
   "mimetype": "text/x-python",
   "name": "python",
   "nbconvert_exporter": "python",
   "pygments_lexer": "ipython3",
   "version": "3.11.5"
  }
 },
 "nbformat": 4,
 "nbformat_minor": 5
}
