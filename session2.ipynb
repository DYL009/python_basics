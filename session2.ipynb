{
 "cells": [
  {
   "cell_type": "code",
   "execution_count": 2,
   "id": "4c33f1b6",
   "metadata": {},
   "outputs": [
    {
     "name": "stdout",
     "output_type": "stream",
     "text": [
      "False\n"
     ]
    }
   ],
   "source": [
    "print(\"d\" not in \"dehli\")"
   ]
  },
  {
   "cell_type": "code",
   "execution_count": 7,
   "id": "45065d49",
   "metadata": {},
   "outputs": [
    {
     "name": "stdout",
     "output_type": "stream",
     "text": [
      "Enter yhe umber456\n"
     ]
    },
    {
     "ename": "TypeError",
     "evalue": "'int' object is not iterable",
     "output_type": "error",
     "traceback": [
      "\u001b[1;31m---------------------------------------------------------------------------\u001b[0m",
      "\u001b[1;31mTypeError\u001b[0m                                 Traceback (most recent call last)",
      "Cell \u001b[1;32mIn[7], line 4\u001b[0m\n\u001b[0;32m      2\u001b[0m usse\u001b[38;5;241m=\u001b[39m\u001b[38;5;28mint\u001b[39m(\u001b[38;5;28minput\u001b[39m(\u001b[38;5;124m'\u001b[39m\u001b[38;5;124mEnter yhe umber\u001b[39m\u001b[38;5;124m'\u001b[39m))\n\u001b[0;32m      3\u001b[0m \u001b[38;5;28msum\u001b[39m\u001b[38;5;241m=\u001b[39m\u001b[38;5;241m0\u001b[39m\n\u001b[1;32m----> 4\u001b[0m \u001b[38;5;28;01mfor\u001b[39;00m i \u001b[38;5;129;01min\u001b[39;00m usse:\n\u001b[0;32m      5\u001b[0m    \u001b[38;5;28msum\u001b[39m\u001b[38;5;241m=\u001b[39m\u001b[38;5;28msum\u001b[39m\u001b[38;5;241m+\u001b[39mi\n\u001b[0;32m      6\u001b[0m \u001b[38;5;28mprint\u001b[39m(i)\n",
      "\u001b[1;31mTypeError\u001b[0m: 'int' object is not iterable"
     ]
    }
   ],
   "source": [
    "# program for the sum of the three number given by user...\n",
    "usse=int(input('Enter yhe umber'))\n",
    "sum=0\n",
    "for i in usse:\n",
    "   sum=sum+i\n",
    "print(i)\n"
   ]
  },
  {
   "cell_type": "code",
   "execution_count": 10,
   "id": "08a5a314",
   "metadata": {},
   "outputs": [
    {
     "name": "stdout",
     "output_type": "stream",
     "text": [
      "Enter the emialds@123gmail.com\n",
      "enter the pasowrd1234\n",
      "coorect accces\n"
     ]
    }
   ],
   "source": [
    "# if else\n",
    "email=input('Enter the emial')\n",
    "password=input(\"enter the pasowrd\")\n",
    "if email==\"ds@123gmail.com\" and password=='1234':\n",
    "    print('coorect accces')\n",
    "else:\n",
    "    print('invalid input')"
   ]
  },
  {
   "cell_type": "code",
   "execution_count": 8,
   "id": "e1b593cf",
   "metadata": {},
   "outputs": [
    {
     "name": "stdout",
     "output_type": "stream",
     "text": [
      "Enter the number1\n",
      "Enter the number1\n",
      "Enter the number1\n",
      "all is well\n"
     ]
    }
   ],
   "source": [
    "a=int(input('Enter the number'))\n",
    "b=int(input('Enter the number'))\n",
    "c=int(input('Enter the number'))\n",
    "\n",
    "if a<b and a<c:\n",
    "    print(a)\n",
    "elif b<a and b<c :\n",
    "    print(b)\n",
    "elif c<a and c<b :\n",
    "        print(c)\n",
    "else:\n",
    "    print('all is well')\n"
   ]
  },
  {
   "cell_type": "code",
   "execution_count": 10,
   "id": "378c5dee",
   "metadata": {},
   "outputs": [
    {
     "name": "stdout",
     "output_type": "stream",
     "text": [
      "Enter tyhe number9\n",
      "enter the number8\n"
     ]
    }
   ],
   "source": [
    "# menu derievn program\n",
    "fnum=int(input('Enter tyhe number'))\n",
    "snum=int(input('enter the number'))"
   ]
  },
  {
   "cell_type": "code",
   "execution_count": 12,
   "id": "fd06e0d5",
   "metadata": {},
   "outputs": [
    {
     "data": {
      "text/plain": [
       "120"
      ]
     },
     "execution_count": 12,
     "metadata": {},
     "output_type": "execute_result"
    }
   ],
   "source": [
    "#modules in py\n",
    "#math\n",
    "import math\n",
    "math.factorial(5)"
   ]
  },
  {
   "cell_type": "code",
   "execution_count": 13,
   "id": "6a2496b5",
   "metadata": {},
   "outputs": [
    {
     "name": "stdout",
     "output_type": "stream",
     "text": [
      "55\n"
     ]
    }
   ],
   "source": [
    "import random\n",
    "print(random.randint(1,100))"
   ]
  },
  {
   "cell_type": "code",
   "execution_count": 14,
   "id": "6a0cd77f",
   "metadata": {},
   "outputs": [
    {
     "name": "stdout",
     "output_type": "stream",
     "text": [
      "2024-06-23 16:45:50.857339\n"
     ]
    }
   ],
   "source": [
    "import datetime\n",
    "print(datetime.datetime.now())"
   ]
  },
  {
   "cell_type": "code",
   "execution_count": 21,
   "id": "b1d9d3b2",
   "metadata": {},
   "outputs": [
    {
     "name": "stdout",
     "output_type": "stream",
     "text": [
      "enter the number12\n",
      "12 * 1 = 12\n",
      "12 * 2 = 24\n",
      "12 * 3 = 36\n",
      "12 * 4 = 48\n",
      "12 * 5 = 60\n",
      "12 * 6 = 72\n",
      "12 * 7 = 84\n",
      "12 * 8 = 96\n",
      "12 * 9 = 108\n",
      "12 * 10 = 120\n"
     ]
    }
   ],
   "source": [
    "number=int(input('enter the number'))\n",
    "i=1\n",
    "while i<11:\n",
    "    print(number,\"*\",i,'=',number*i)\n",
    "    i+=1"
   ]
  },
  {
   "cell_type": "code",
   "execution_count": null,
   "id": "76f514e2",
   "metadata": {},
   "outputs": [
    {
     "name": "stdout",
     "output_type": "stream",
     "text": [
      "gauss kro34\n",
      "galat lower\n",
      "gauss kro23\n",
      "galat lower\n",
      "gauss kro56\n",
      "galat lower\n",
      "gauss kro67\n",
      "galat lower\n",
      "gauss kro12\n",
      "galat lower\n",
      "gauss kro14\n",
      "galat lower\n",
      "gauss kro12\n",
      "galat lower\n",
      "gauss kro55\n",
      "galat lower\n"
     ]
    }
   ],
   "source": [
    "#gaussing game\n",
    "import random\n",
    "jackpot=-random.randint(1,100)\n",
    "gauss = int(input('gauss kro'))\n",
    "counter=1\n",
    "while gauss!=jackpot:\n",
    "    if gauss <jackpot:\n",
    "        print('galat gauss')\n",
    "    else:\n",
    "        print('galat lower')\n",
    "    gauss= int(input('gauss kro'))\n",
    "    counter+=1\n",
    "else:\n",
    "    print('correct gauss')\n",
    "    print(\"attemts\",counter)"
   ]
  },
  {
   "cell_type": "code",
   "execution_count": 3,
   "id": "8f454b1e",
   "metadata": {},
   "outputs": [
    {
     "name": "stdout",
     "output_type": "stream",
     "text": [
      "20\n",
      "18\n",
      "16\n",
      "14\n",
      "12\n",
      "10\n",
      "8\n",
      "6\n",
      "4\n"
     ]
    }
   ],
   "source": [
    "for i in range(20,2,-2):\n",
    "    print(i)"
   ]
  },
  {
   "cell_type": "code",
   "execution_count": null,
   "id": "665850c8",
   "metadata": {},
   "outputs": [],
   "source": []
  }
 ],
 "metadata": {
  "kernelspec": {
   "display_name": "Python 3 (ipykernel)",
   "language": "python",
   "name": "python3"
  },
  "language_info": {
   "codemirror_mode": {
    "name": "ipython",
    "version": 3
   },
   "file_extension": ".py",
   "mimetype": "text/x-python",
   "name": "python",
   "nbconvert_exporter": "python",
   "pygments_lexer": "ipython3",
   "version": "3.11.5"
  }
 },
 "nbformat": 4,
 "nbformat_minor": 5
}
